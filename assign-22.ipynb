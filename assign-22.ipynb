{
 "cells": [
  {
   "cell_type": "code",
   "execution_count": 1,
   "id": "ef094347",
   "metadata": {},
   "outputs": [
    {
     "name": "stdout",
     "output_type": "stream",
     "text": [
      "iNeuron\n"
     ]
    }
   ],
   "source": [
    "#1. What is the result of the code, and explain?\n",
    "\n",
    "X = 'iNeuron'\n",
    "def func():\n",
    "    print(X)\n",
    "\n",
    "func()"
   ]
  },
  {
   "cell_type": "code",
   "execution_count": null,
   "id": "caee6305",
   "metadata": {},
   "outputs": [],
   "source": [
    "it will print iNeuron bcz x value is same and while callling function it will goto print."
   ]
  },
  {
   "cell_type": "markdown",
   "id": "a3a555f9",
   "metadata": {},
   "source": [
    "# 2. What is the result of the code, and explain?"
   ]
  },
  {
   "cell_type": "code",
   "execution_count": 6,
   "id": "e0a1fd6b",
   "metadata": {},
   "outputs": [
    {
     "name": "stdout",
     "output_type": "stream",
     "text": [
      "ineuron\n"
     ]
    }
   ],
   "source": [
    "x = 'ineuron'\n",
    "def fun():\n",
    "    x ='N!!'\n",
    "\n",
    "fun()\n",
    "print(x)"
   ]
  },
  {
   "cell_type": "markdown",
   "id": "a2c8291f",
   "metadata": {},
   "source": [
    "# 3. What does this code print, and why?"
   ]
  },
  {
   "cell_type": "code",
   "execution_count": null,
   "id": "6326dde3",
   "metadata": {},
   "outputs": [],
   "source": [
    "same code as 2"
   ]
  },
  {
   "cell_type": "markdown",
   "id": "58832c8d",
   "metadata": {},
   "source": [
    "# 4. What output does this code produce? Why?"
   ]
  },
  {
   "cell_type": "code",
   "execution_count": 12,
   "id": "450b4bf0",
   "metadata": {},
   "outputs": [
    {
     "name": "stdout",
     "output_type": "stream",
     "text": [
      "ineuron\n"
     ]
    }
   ],
   "source": [
    "x = 'ineuron'\n",
    "def fun():\n",
    "    global X\n",
    "    x = 'NI'\n",
    "    \n",
    "fun()\n",
    "print(x)    "
   ]
  },
  {
   "cell_type": "code",
   "execution_count": null,
   "id": "7b1927b8",
   "metadata": {},
   "outputs": [],
   "source": [
    "bcz first x is used as global variable an dprint is out side of function so it is printing global var"
   ]
  },
  {
   "cell_type": "markdown",
   "id": "645400a0",
   "metadata": {},
   "source": [
    "# 5. What about this code—what’s the output, and why?"
   ]
  },
  {
   "cell_type": "code",
   "execution_count": 19,
   "id": "01cffb19",
   "metadata": {},
   "outputs": [
    {
     "name": "stdout",
     "output_type": "stream",
     "text": [
      "NI\n"
     ]
    }
   ],
   "source": [
    "x = 'ineuron'\n",
    "def fun():\n",
    "    x = 'NI'\n",
    "    #print(x)\n",
    "    def nested():\n",
    "        print(x)\n",
    "    nested()\n",
    "    \n",
    "fun()\n",
    "print(x)"
   ]
  },
  {
   "cell_type": "code",
   "execution_count": null,
   "id": "93c5192e",
   "metadata": {},
   "outputs": [],
   "source": [
    "the last print will defnitly print global x and inside nested fun we have print statement which will print the function level variable x"
   ]
  },
  {
   "cell_type": "markdown",
   "id": "79a3ef48",
   "metadata": {},
   "source": [
    "# 6. How about this code: what is its output in Python 3, and explain?"
   ]
  },
  {
   "cell_type": "code",
   "execution_count": 22,
   "id": "01fa4fc1",
   "metadata": {},
   "outputs": [
    {
     "name": "stdout",
     "output_type": "stream",
     "text": [
      "NI\n"
     ]
    }
   ],
   "source": [
    "def fun():\n",
    "    x= 'NI'\n",
    "    def nested():\n",
    "        nonlocal x\n",
    "        x ='spam'\n",
    "    nested()\n",
    "    print(x)\n",
    "    \n",
    "fun()    "
   ]
  },
  {
   "cell_type": "code",
   "execution_count": null,
   "id": "56eb80cb",
   "metadata": {},
   "outputs": [],
   "source": [
    "with the use of nonlocal keyword we can override the globale var,,, to make the variable which refers to the variable bounded in the nearest scope"
   ]
  }
 ],
 "metadata": {
  "kernelspec": {
   "display_name": "Python 3",
   "language": "python",
   "name": "python3"
  },
  "language_info": {
   "codemirror_mode": {
    "name": "ipython",
    "version": 3
   },
   "file_extension": ".py",
   "mimetype": "text/x-python",
   "name": "python",
   "nbconvert_exporter": "python",
   "pygments_lexer": "ipython3",
   "version": "3.8.8"
  }
 },
 "nbformat": 4,
 "nbformat_minor": 5
}
